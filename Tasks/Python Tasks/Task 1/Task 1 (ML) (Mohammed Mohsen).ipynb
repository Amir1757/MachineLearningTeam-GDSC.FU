{
 "cells": [
  {
   "cell_type": "code",
   "execution_count": 8,
   "id": "a17ab1e0",
   "metadata": {},
   "outputs": [
    {
     "name": "stdout",
     "output_type": "stream",
     "text": [
      "7\n"
     ]
    }
   ],
   "source": [
    "'''\n",
    "Section 1 :\n",
    "Question (1)\n",
    "'''\n",
    "num1 = 7\n",
    "print(num1)"
   ]
  },
  {
   "cell_type": "code",
   "execution_count": 3,
   "id": "213742d4",
   "metadata": {},
   "outputs": [
    {
     "name": "stdout",
     "output_type": "stream",
     "text": [
      "Hello World!\n"
     ]
    }
   ],
   "source": [
    "'''\n",
    "Section 1 :\n",
    "Question (2)\n",
    "'''\n",
    "word = \"Hello World!\"\n",
    "print(word)"
   ]
  },
  {
   "cell_type": "code",
   "execution_count": 7,
   "id": "1ef1bf07",
   "metadata": {},
   "outputs": [
    {
     "name": "stdout",
     "output_type": "stream",
     "text": [
      "<class 'bool'>\n"
     ]
    }
   ],
   "source": [
    "'''\n",
    "Section 1 :\n",
    "Question (3)\n",
    "'''\n",
    "q = True\n",
    "print(type(q))"
   ]
  },
  {
   "cell_type": "code",
   "execution_count": 5,
   "id": "0dada830",
   "metadata": {},
   "outputs": [
    {
     "name": "stdout",
     "output_type": "stream",
     "text": [
      "<class 'int'>\n"
     ]
    }
   ],
   "source": [
    "'''\n",
    "Section 1 :\n",
    "Question (4)\n",
    "'''\n",
    "answer_1 = 15\n",
    "print(type(answer_1))"
   ]
  },
  {
   "cell_type": "code",
   "execution_count": 6,
   "id": "f9bc735d",
   "metadata": {},
   "outputs": [
    {
     "name": "stdout",
     "output_type": "stream",
     "text": [
      "<class 'str'>\n"
     ]
    }
   ],
   "source": [
    "'''\n",
    "Section 1 :\n",
    "Question (5)\n",
    "'''\n",
    "answer_2 = \"Hallo\"\n",
    "print(type(answer_2))"
   ]
  },
  {
   "cell_type": "code",
   "execution_count": 13,
   "id": "d233098a",
   "metadata": {},
   "outputs": [
    {
     "name": "stdout",
     "output_type": "stream",
     "text": [
      "<class 'float'>\n",
      "<class 'str'>\n",
      "<class 'list'>\n",
      "<class 'set'>\n",
      "<class 'str'>\n"
     ]
    }
   ],
   "source": [
    "'''\n",
    "Section 1 :\n",
    "Question (6)\n",
    "'''\n",
    "Variable1 = (12.3)      #print(type(Variable1))\n",
    "Variable2 = (\"Welcome\") #print(type(Variable2))\n",
    "Variable3 = [1,2,3]     #print(type(Variable3))\n",
    "Variable4 = {1,2,3}     #print(type(Variable4))\n",
    "Variable5 = (\"123\")     #print(type(Variable5))\n",
    "\n",
    "print(type(Variable1))\n",
    "print(type(Variable2))\n",
    "print(type(Variable3))\n",
    "print(type(Variable4))\n",
    "print(type(Variable5))"
   ]
  },
  {
   "cell_type": "code",
   "execution_count": 16,
   "id": "9998318f",
   "metadata": {},
   "outputs": [
    {
     "name": "stdout",
     "output_type": "stream",
     "text": [
      "b\n"
     ]
    }
   ],
   "source": [
    "'''\n",
    "Section 2 :\n",
    "Question (1)\n",
    "'''\n",
    "print(\"b\")"
   ]
  },
  {
   "cell_type": "code",
   "execution_count": 18,
   "id": "2778f737",
   "metadata": {},
   "outputs": [
    {
     "name": "stdout",
     "output_type": "stream",
     "text": [
      "please enter the frist value Faculty of Engineering\n",
      "gnireenignE fo ytlucaF\n"
     ]
    }
   ],
   "source": [
    "'''\n",
    "Section 2 :\n",
    "Question (2)\n",
    "'''\n",
    "str1 = input(\"please enter the frist value \")[::-1]\n",
    "print(str1)"
   ]
  },
  {
   "cell_type": "code",
   "execution_count": 48,
   "id": "3e4babc8",
   "metadata": {},
   "outputs": [
    {
     "name": "stdout",
     "output_type": "stream",
     "text": [
      "Please In The Enter ValueH\n",
      "The Character In The Frist In Put\n"
     ]
    }
   ],
   "source": [
    "'''\n",
    "Section 2 :\n",
    "Question (3-0)\n",
    "'''\n",
    "txt = \"Hello World!\"\n",
    "send = input(\"Please In The Enter Value\")\n",
    "final = txt.find(send)\n",
    "if final==0:\n",
    "    print(\"The Character In The Frist In Put\")\n",
    "else:\n",
    "    print(\"The Character Not In Frist In Put\")"
   ]
  },
  {
   "cell_type": "code",
   "execution_count": 62,
   "id": "efbd5fc5",
   "metadata": {},
   "outputs": [
    {
     "name": "stdout",
     "output_type": "stream",
     "text": [
      "H\n"
     ]
    }
   ],
   "source": [
    "'''\n",
    "Section 2 :\n",
    "Question (3-1)\n",
    "'''\n",
    "txt = \"Hello World!\"\n",
    "print(txt[0:1])"
   ]
  },
  {
   "cell_type": "code",
   "execution_count": 61,
   "id": "d688247c",
   "metadata": {},
   "outputs": [
    {
     "name": "stdout",
     "output_type": "stream",
     "text": [
      "llo\n"
     ]
    }
   ],
   "source": [
    "'''\n",
    "Section 2 :\n",
    "Question (3-2)\n",
    "'''\n",
    "txt = \"Hello World!\"\n",
    "print(txt[2:5])"
   ]
  },
  {
   "cell_type": "code",
   "execution_count": 60,
   "id": "c4609a67",
   "metadata": {},
   "outputs": [
    {
     "name": "stdout",
     "output_type": "stream",
     "text": [
      "HELLO WORLD!\n"
     ]
    }
   ],
   "source": [
    "'''\n",
    "Section 2 :\n",
    "Question (3-3)\n",
    "'''\n",
    "txt = \"Hello World!\"\n",
    "print(txt.upper())"
   ]
  },
  {
   "cell_type": "code",
   "execution_count": 59,
   "id": "ee284190",
   "metadata": {},
   "outputs": [
    {
     "name": "stdout",
     "output_type": "stream",
     "text": [
      "hello world!\n"
     ]
    }
   ],
   "source": [
    "'''\n",
    "Section 2 :\n",
    "Question (3-4)\n",
    "'''\n",
    "txt = \"Hello World!\"\n",
    "print(txt.lower())"
   ]
  },
  {
   "cell_type": "code",
   "execution_count": 50,
   "id": "4556d902",
   "metadata": {},
   "outputs": [
    {
     "name": "stdout",
     "output_type": "stream",
     "text": [
      "[500, 400, 300, 200, 100]\n"
     ]
    }
   ],
   "source": [
    "'''\n",
    "Section 3 :\n",
    "Question (1-0)\n",
    "'''\n",
    "List_one = [100,200,300,400,500]\n",
    "List_one.reverse()\n",
    "print(List_one)"
   ]
  },
  {
   "cell_type": "code",
   "execution_count": 58,
   "id": "e6b60895",
   "metadata": {},
   "outputs": [
    {
     "name": "stdout",
     "output_type": "stream",
     "text": [
      "banana\n"
     ]
    }
   ],
   "source": [
    "'''\n",
    "Section 3 :\n",
    "Question (1-1)\n",
    "'''\n",
    "Fruits = [\"apple\",\"banana\",\"cherry\"]\n",
    "print(Fruits[1])"
   ]
  },
  {
   "cell_type": "code",
   "execution_count": 52,
   "id": "0bea6103",
   "metadata": {},
   "outputs": [
    {
     "name": "stdout",
     "output_type": "stream",
     "text": [
      "['kiwi', 'banana', 'cherry']\n"
     ]
    }
   ],
   "source": [
    "'''\n",
    "Section 3 :\n",
    "Question (1-2)\n",
    "'''\n",
    "Fruits = [\"apple\",\"banana\",\"cherry\"]\n",
    "Fruits[0] = \"kiwi\"\n",
    "print(Fruits)"
   ]
  },
  {
   "cell_type": "code",
   "execution_count": 53,
   "id": "6edec8e5",
   "metadata": {},
   "outputs": [
    {
     "name": "stdout",
     "output_type": "stream",
     "text": [
      "['apple', 'lemon', 'banana', 'cherry']\n"
     ]
    }
   ],
   "source": [
    "'''\n",
    "Section 3 :\n",
    "Question (1-3)\n",
    "'''\n",
    "Fruits = [\"apple\",\"banana\",\"cherry\"]\n",
    "Fruits.insert(1,\"lemon\")\n",
    "print(Fruits)"
   ]
  },
  {
   "cell_type": "code",
   "execution_count": 57,
   "id": "7a5e6c26",
   "metadata": {},
   "outputs": [
    {
     "name": "stdout",
     "output_type": "stream",
     "text": [
      "cherry\n"
     ]
    }
   ],
   "source": [
    "'''\n",
    "Section 3 :\n",
    "Question (1-4)\n",
    "'''\n",
    "Fruits = [\"apple\",\"banana\",\"cherry\"]\n",
    "print(Fruits[-1])"
   ]
  },
  {
   "cell_type": "code",
   "execution_count": 56,
   "id": "48f327e8",
   "metadata": {},
   "outputs": [
    {
     "name": "stdout",
     "output_type": "stream",
     "text": [
      "['cherry', 'orange', 'kiwi']\n"
     ]
    }
   ],
   "source": [
    "'''\n",
    "Section 3 :\n",
    "Question (2)\n",
    "'''\n",
    "Fruits = [\"apple\", \"banana\", \"cherry\", \"orange\", \"kiwi\", \"melon\", \"mango\"]\n",
    "print(Fruits[2:5])"
   ]
  },
  {
   "cell_type": "code",
   "execution_count": null,
   "id": "97b5e04d",
   "metadata": {},
   "outputs": [],
   "source": [
    "'''\n",
    "Section 3 :\n",
    "Question (3)\n",
    "'''\n",
    "List1 = [\"a\", \"b\", [\"c\", [\"d\", \"e\", [\"f\", \"g\"], \"k\"], \"l\"], \"m\", \"n\"]\n"
   ]
  }
 ],
 "metadata": {
  "kernelspec": {
   "display_name": "Python 3 (ipykernel)",
   "language": "python",
   "name": "python3"
  },
  "language_info": {
   "codemirror_mode": {
    "name": "ipython",
    "version": 3
   },
   "file_extension": ".py",
   "mimetype": "text/x-python",
   "name": "python",
   "nbconvert_exporter": "python",
   "pygments_lexer": "ipython3",
   "version": "3.9.13"
  }
 },
 "nbformat": 4,
 "nbformat_minor": 5
}
